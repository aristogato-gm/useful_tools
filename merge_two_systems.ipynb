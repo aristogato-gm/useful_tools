{
 "cells": [
  {
   "cell_type": "markdown",
   "id": "confidential-upgrade",
   "metadata": {},
   "source": [
    "# Create a new Universe merging two different systems using MDAnalysis\n"
   ]
  },
  {
   "cell_type": "code",
   "execution_count": 1,
   "id": "cross-tactics",
   "metadata": {},
   "outputs": [
    {
     "data": {
      "application/vnd.jupyter.widget-view+json": {
       "model_id": "6ed143e76f11432e8eeccb353e4d9350",
       "version_major": 2,
       "version_minor": 0
      },
      "text/plain": []
     },
     "metadata": {},
     "output_type": "display_data"
    }
   ],
   "source": [
    "import MDAnalysis as mda\n",
    "import numpy as np\n",
    "import MDAnalysis.transformations\n",
    "import nglview as nv"
   ]
  },
  {
   "cell_type": "markdown",
   "id": "abstract-smart",
   "metadata": {},
   "source": [
    "The first thing to do is load the structure one to create the universe **u1**. The structure can be visualised with NGLView. "
   ]
  },
  {
   "cell_type": "code",
   "execution_count": 2,
   "id": "presidential-classics",
   "metadata": {},
   "outputs": [
    {
     "data": {
      "application/vnd.jupyter.widget-view+json": {
       "model_id": "a3b9cc36e96a4b33b6ac7a076ee0285e",
       "version_major": 2,
       "version_minor": 0
      },
      "text/plain": [
       "NGLWidget()"
      ]
     },
     "metadata": {},
     "output_type": "display_data"
    }
   ],
   "source": [
    "u1 = mda.Universe(\"system1.gro\")\n",
    "sol_view = nv.show_mdanalysis(u1)\n",
    "sol_view.add_representation('ball+stick', selection='all')\n",
    "sol_view.center()\n",
    "sol_view\n"
   ]
  },
  {
   "cell_type": "markdown",
   "id": "experienced-tokyo",
   "metadata": {},
   "source": [
    "Load the structure two to create the universe **u2**"
   ]
  },
  {
   "cell_type": "code",
   "execution_count": 4,
   "id": "developing-hydrogen",
   "metadata": {},
   "outputs": [
    {
     "data": {
      "application/vnd.jupyter.widget-view+json": {
       "model_id": "dac6169ffe894907a9333a115dc6140b",
       "version_major": 2,
       "version_minor": 0
      },
      "text/plain": [
       "NGLWidget()"
      ]
     },
     "metadata": {},
     "output_type": "display_data"
    }
   ],
   "source": [
    "u2 = mda.Universe(\"system2.gro\")\n",
    "sol_view = nv.show_mdanalysis(u2)\n",
    "sol_view.add_representation('ball+stick', selection='all')\n",
    "sol_view.center()\n",
    "sol_view\n",
    "\n"
   ]
  },
  {
   "cell_type": "markdown",
   "id": "little-stress",
   "metadata": {},
   "source": [
    "Now we have to decide across what axis we want join our two systems, the options are: **axis = 0** for $x$ axis, **axis = 1** for $y$ and  **axis = 2** for $z$). The gap between them has to be indicated in Angstroms. The idea is translate the positions of the structure two to merge it correctly (without overlaping) with the structure one. "
   ]
  },
  {
   "cell_type": "code",
   "execution_count": 6,
   "id": "recovered-lighter",
   "metadata": {},
   "outputs": [
    {
     "data": {
      "application/vnd.jupyter.widget-view+json": {
       "model_id": "366b77a785664e68ade655572d2cd247",
       "version_major": 2,
       "version_minor": 0
      },
      "text/plain": [
       "NGLWidget()"
      ]
     },
     "metadata": {},
     "output_type": "display_data"
    }
   ],
   "source": [
    "axis = 2\n",
    "\n",
    "gap = 10\n",
    "\n",
    "u1 = mda.Universe(\"system1.gro\")\n",
    "u2 = mda.Universe(\"system2.gro\")\n",
    "\n",
    "atoms1 = u1.select_atoms('resname *')\n",
    "posiciones1 = atoms1.positions\n",
    "centroid1 = atoms1.centroid()\n",
    "\n",
    "atoms2 = u2.select_atoms('resname *')\n",
    "posiciones2 = atoms2.positions\n",
    "centroid2 = atoms2.centroid()\n",
    "\n",
    "delta = centroid1 - centroid2\n",
    "delta[axis] = centroid1[axis]*2 + gap\n",
    "\n",
    "workflow = [MDAnalysis.transformations.translate(delta)]\n",
    "u2 = mda.Universe(\"system2.gro\", transformations=workflow)\n",
    "\n",
    "cell_size = u1.dimensions\n",
    "cell_size[axis] = u1.dimensions[axis] + u2.dimensions[axis] + gap\n",
    "\n",
    "u3 = mda.Merge(u1.atoms, u2.atoms)\n",
    "u3.dimensions = cell_size\n",
    "\n",
    "sol_view = nv.show_mdanalysis(u3)\n",
    "sol_view.add_representation('ball+stick', selection='all')\n",
    "sol_view.center()\n",
    "sol_view\n"
   ]
  },
  {
   "cell_type": "markdown",
   "id": "angry-enforcement",
   "metadata": {},
   "source": [
    "Finally we can write the coordinates of the **u3** universe to a file **out.gro** with GRO format"
   ]
  },
  {
   "cell_type": "code",
   "execution_count": 7,
   "id": "latin-economics",
   "metadata": {},
   "outputs": [],
   "source": [
    "u3.atoms.write('out.gro')"
   ]
  },
  {
   "cell_type": "code",
   "execution_count": null,
   "id": "intelligent-insured",
   "metadata": {},
   "outputs": [],
   "source": []
  }
 ],
 "metadata": {
  "kernelspec": {
   "display_name": "Python 3",
   "language": "python",
   "name": "python3"
  },
  "language_info": {
   "codemirror_mode": {
    "name": "ipython",
    "version": 3
   },
   "file_extension": ".py",
   "mimetype": "text/x-python",
   "name": "python",
   "nbconvert_exporter": "python",
   "pygments_lexer": "ipython3",
   "version": "3.8.5"
  }
 },
 "nbformat": 4,
 "nbformat_minor": 5
}
